{
  "nbformat": 4,
  "nbformat_minor": 0,
  "metadata": {
    "colab": {
      "name": "kikagaku1.ipynb",
      "provenance": [],
      "authorship_tag": "ABX9TyPhHGoByYcUi1QMn38AtUH3",
      "include_colab_link": true
    },
    "kernelspec": {
      "name": "python3",
      "display_name": "Python 3"
    }
  },
  "cells": [
    {
      "cell_type": "markdown",
      "metadata": {
        "id": "view-in-github",
        "colab_type": "text"
      },
      "source": [
        "<a href=\"https://colab.research.google.com/github/TownBeginner/kikagaku/blob/main/kikagaku1.ipynb\" target=\"_parent\"><img src=\"https://colab.research.google.com/assets/colab-badge.svg\" alt=\"Open In Colab\"/></a>"
      ]
    },
    {
      "cell_type": "code",
      "metadata": {
        "id": "ISY0tHzwR66p"
      },
      "source": [
        "import numpy as np"
      ],
      "execution_count": 8,
      "outputs": []
    },
    {
      "cell_type": "markdown",
      "metadata": {
        "id": "bUIT23iYSEtK"
      },
      "source": [
        "|$n$|$x_{n}$|$t_{n}$|\r\n",
        "|:--|:--|:--|\r\n",
        "|1|20|60000|\r\n",
        "|2|40|115000|\r\n",
        "|3|60|155000|"
      ]
    },
    {
      "cell_type": "code",
      "metadata": {
        "colab": {
          "base_uri": "https://localhost:8080/"
        },
        "id": "zDZiPR05SqPZ",
        "outputId": "1634f2e8-0f2c-47fa-b276-efe35c68446d"
      },
      "source": [
        "x = np.array([20,40,60])\r\n",
        "type(x)\r\n"
      ],
      "execution_count": 9,
      "outputs": [
        {
          "output_type": "execute_result",
          "data": {
            "text/plain": [
              "numpy.ndarray"
            ]
          },
          "metadata": {
            "tags": []
          },
          "execution_count": 9
        }
      ]
    },
    {
      "cell_type": "code",
      "metadata": {
        "colab": {
          "base_uri": "https://localhost:8080/"
        },
        "id": "XxwACN8cS0Le",
        "outputId": "116fbbd3-0f55-4293-e021-6c1a7d863045"
      },
      "source": [
        "t = np.array([60000,115000,155000])\r\n",
        "t"
      ],
      "execution_count": 10,
      "outputs": [
        {
          "output_type": "execute_result",
          "data": {
            "text/plain": [
              "array([ 60000, 115000, 155000])"
            ]
          },
          "metadata": {
            "tags": []
          },
          "execution_count": 10
        }
      ]
    },
    {
      "cell_type": "code",
      "metadata": {
        "id": "BnALFk5NS8e6"
      },
      "source": [
        "x_mean=x.mean()\r\n",
        "t_mean=t.mean()"
      ],
      "execution_count": 16,
      "outputs": []
    },
    {
      "cell_type": "code",
      "metadata": {
        "id": "voQxgo04TN6w"
      },
      "source": [
        "#これでそれぞれの要素から平均を引くことがデキる(中心化ができる) 。\r\n",
        "xc = x - x_mean  "
      ],
      "execution_count": 19,
      "outputs": []
    },
    {
      "cell_type": "code",
      "metadata": {
        "id": "oWUimUFlTgm9"
      },
      "source": [
        "tc = t - t_mean"
      ],
      "execution_count": 20,
      "outputs": []
    },
    {
      "cell_type": "markdown",
      "metadata": {
        "id": "hxAm1GpzTwf3"
      },
      "source": [
        "最適なパラメータ\r\n",
        "\r\n",
        "$$\r\n",
        "w = \\dfrac{\\sum_{n=1}^{N} x_{n}t_{n}}{\\sum_{n=1}^{N} x_{n}^{2}}\r\n",
        "$$\r\n",
        "を求めます。まずは分子からです。\r\n",
        "$$\r\n",
        "{\\sum_{n=1}^{N} x_{n}t_{n}}\r\n",
        "$$\r\n",
        "\r\n"
      ]
    },
    {
      "cell_type": "code",
      "metadata": {
        "colab": {
          "base_uri": "https://localhost:8080/"
        },
        "id": "o5eeV88LVE9g",
        "outputId": "3ac95f55-ece0-46fb-d16f-d326622e3962"
      },
      "source": [
        "# 要素ごとの掛け算とその総和\r\n",
        "(xc * tc).sum()"
      ],
      "execution_count": 23,
      "outputs": [
        {
          "output_type": "execute_result",
          "data": {
            "text/plain": [
              "1900000.0"
            ]
          },
          "metadata": {
            "tags": []
          },
          "execution_count": 23
        }
      ]
    },
    {
      "cell_type": "markdown",
      "metadata": {
        "id": "1iXgm9LzVhYB"
      },
      "source": [
        "分母\r\n",
        "$$\r\n",
        "{\\sum_{n=1}^{N} x_{n}^{2}}\r\n",
        "$$\r\n",
        "を求めます。"
      ]
    },
    {
      "cell_type": "code",
      "metadata": {
        "colab": {
          "base_uri": "https://localhost:8080/"
        },
        "id": "tr0HNyzrVx6u",
        "outputId": "0b910956-7f9c-4e2a-afd7-e1e5cacf3eb0"
      },
      "source": [
        "(xc * xc).sum()"
      ],
      "execution_count": 24,
      "outputs": [
        {
          "output_type": "execute_result",
          "data": {
            "text/plain": [
              "800.0"
            ]
          },
          "metadata": {
            "tags": []
          },
          "execution_count": 24
        }
      ]
    },
    {
      "cell_type": "code",
      "metadata": {
        "colab": {
          "base_uri": "https://localhost:8080/"
        },
        "id": "Znc5rrNWV-W9",
        "outputId": "76a78499-fc5d-4695-f37b-f85101ee78ca"
      },
      "source": [
        "#最適なパラメータ\r\n",
        "w = (xc * tc).sum() / (xc * xc).sum()\r\n",
        "w"
      ],
      "execution_count": 25,
      "outputs": [
        {
          "output_type": "execute_result",
          "data": {
            "text/plain": [
              "2375.0"
            ]
          },
          "metadata": {
            "tags": []
          },
          "execution_count": 25
        }
      ]
    },
    {
      "cell_type": "markdown",
      "metadata": {
        "id": "0JGfHvMLWM4R"
      },
      "source": [
        "こちらのパラメータを用いて、$x=50$ の場合の予測値 $y$を求めます。\r\n",
        "\r\n",
        "$$\r\n",
        "\\begin{aligned}\r\n",
        "y_{c} = wx_{c} \\\\\r\n",
        "y - \\bar{t} = w (x-\\bar{x}) \\\\\r\n",
        "y = w (x - \\bar{x}) + \\bar{t}\r\n",
        "\\end{aligned}\r\n",
        "$$"
      ]
    },
    {
      "cell_type": "code",
      "metadata": {
        "id": "JTRQdkvdW3qv"
      },
      "source": [
        "x =50"
      ],
      "execution_count": 26,
      "outputs": []
    },
    {
      "cell_type": "code",
      "metadata": {
        "colab": {
          "base_uri": "https://localhost:8080/"
        },
        "id": "sL1C05AaWr_d",
        "outputId": "e7fa6a17-82fa-4595-a869-dcb9ef71174f"
      },
      "source": [
        "y = w * (x - x_mean) + t_mean\r\n",
        "y"
      ],
      "execution_count": 27,
      "outputs": [
        {
          "output_type": "execute_result",
          "data": {
            "text/plain": [
              "133750.0"
            ]
          },
          "metadata": {
            "tags": []
          },
          "execution_count": 27
        }
      ]
    }
  ]
}